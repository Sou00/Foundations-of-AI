{
 "cells": [
  {
   "cell_type": "code",
   "execution_count": 1,
   "metadata": {},
   "outputs": [
    {
     "name": "stdout",
     "output_type": "stream",
     "text": [
      "2.8.0\n",
      "2.8.0\n"
     ]
    }
   ],
   "source": [
    "import tensorflow as tf\n",
    "from tensorflow import keras\n",
    "print(tf.__version__)\n",
    "\n",
    "print(keras.__version__)"
   ]
  },
  {
   "cell_type": "code",
   "execution_count": 2,
   "metadata": {},
   "outputs": [],
   "source": [
    "import numpy as np\n",
    "import pandas as pd\n",
    "import matplotlib.pyplot as plt\n",
    "import os"
   ]
  },
  {
   "cell_type": "code",
   "execution_count": 3,
   "metadata": {},
   "outputs": [
    {
     "name": "stdout",
     "output_type": "stream",
     "text": [
      "Downloading data from https://storage.googleapis.com/tensorflow/tf-keras-datasets/train-labels-idx1-ubyte.gz\n",
      "32768/29515 [=================================] - 0s 1us/step\n",
      "40960/29515 [=========================================] - 0s 1us/step\n",
      "Downloading data from https://storage.googleapis.com/tensorflow/tf-keras-datasets/train-images-idx3-ubyte.gz\n",
      "26427392/26421880 [==============================] - 16s 1us/step\n",
      "26435584/26421880 [==============================] - 16s 1us/step\n",
      "Downloading data from https://storage.googleapis.com/tensorflow/tf-keras-datasets/t10k-labels-idx1-ubyte.gz\n",
      "16384/5148 [===============================================================================================] - 0s 0s/step\n",
      "Downloading data from https://storage.googleapis.com/tensorflow/tf-keras-datasets/t10k-images-idx3-ubyte.gz\n",
      "4423680/4422102 [==============================] - 2s 1us/step\n",
      "4431872/4422102 [==============================] - 2s 1us/step\n"
     ]
    }
   ],
   "source": [
    "fashion_mnist = keras.datasets.fashion_mnist\n",
    "(X_train_full, y_train_full), (X_test, y_test) = fashion_mnist.load_data()"
   ]
  },
  {
   "cell_type": "code",
   "execution_count": 4,
   "metadata": {},
   "outputs": [
    {
     "data": {
      "text/plain": [
       "(60000, 28, 28)"
      ]
     },
     "execution_count": 4,
     "metadata": {},
     "output_type": "execute_result"
    }
   ],
   "source": [
    "X_train_full.shape"
   ]
  },
  {
   "cell_type": "markdown",
   "metadata": {},
   "source": [
    "Each pixel intensity is represented as a byte (0 to 255):"
   ]
  },
  {
   "cell_type": "code",
   "execution_count": 5,
   "metadata": {},
   "outputs": [
    {
     "data": {
      "text/plain": [
       "dtype('uint8')"
      ]
     },
     "execution_count": 5,
     "metadata": {},
     "output_type": "execute_result"
    }
   ],
   "source": [
    "X_train_full.dtype"
   ]
  },
  {
   "cell_type": "markdown",
   "metadata": {},
   "source": [
    "* Podzielmy pełny zestaw treningowy na zestaw walidacyjny i zestaw treningowy. \n",
    "* Kolor pikseli skalujemy również do zakresu 0-1 i przekształcamy na zmiennoprzecinkowe, dzieląc przez 255."
   ]
  },
  {
   "cell_type": "code",
   "execution_count": 6,
   "metadata": {},
   "outputs": [],
   "source": [
    "X_valid, X_train = X_train_full[:5000] / 255., X_train_full[5000:] / 255.\n",
    "y_valid, y_train = y_train_full[:5000], y_train_full[5000:]\n",
    "X_test = X_test / 255."
   ]
  },
  {
   "cell_type": "code",
   "execution_count": 7,
   "metadata": {},
   "outputs": [
    {
     "data": {
      "image/png": "[encoded data removed]",
      "text/plain": [
       "<Figure size 432x288 with 1 Axes>"
      ]
     },
     "metadata": {
      "needs_background": "light"
     },
     "output_type": "display_data"
    }
   ],
   "source": [
    "plt.imshow(X_train[0], cmap=\"binary\")\n",
    "plt.axis('off')\n",
    "plt.show()"
   ]
  },
  {
   "cell_type": "code",
   "execution_count": 8,
   "metadata": {},
   "outputs": [
    {
     "data": {
      "text/plain": [
       "array([4, 0, 7, ..., 3, 0, 5], dtype=uint8)"
      ]
     },
     "execution_count": 8,
     "metadata": {},
     "output_type": "execute_result"
    }
   ],
   "source": [
    "y_train"
   ]
  },
  {
   "cell_type": "markdown",
   "metadata": {},
   "source": [
    "Będziemy używać klas numerycznych i nazw."
   ]
  },
  {
   "cell_type": "code",
   "execution_count": 9,
   "metadata": {},
   "outputs": [
    {
     "data": {
      "text/plain": [
       "'Coat'"
      ]
     },
     "execution_count": 9,
     "metadata": {},
     "output_type": "execute_result"
    }
   ],
   "source": [
    "class_names = [\"T-shirt/top\", \"Trouser\", \"Pullover\", \"Dress\", \"Coat\",\n",
    "               \"Sandal\", \"Shirt\", \"Sneaker\", \"Bag\", \"Ankle boot\"]\n",
    "\n",
    "class_names[y_train[0]]"
   ]
  },
  {
   "cell_type": "markdown",
   "metadata": {},
   "source": [
    "Możemy narysować więcej przykładów treningowych."
   ]
  },
  {
   "cell_type": "code",
   "execution_count": 10,
   "metadata": {},
   "outputs": [
    {
     "data": {
      "image/png": "[encoded data removed]",
      "text/plain": [
       "<Figure size 864x345.6 with 40 Axes>"
      ]
     },
     "metadata": {
      "needs_background": "light"
     },
     "output_type": "display_data"
    }
   ],
   "source": [
    "n_rows = 4\n",
    "n_cols = 10\n",
    "plt.figure(figsize=(n_cols * 1.2, n_rows * 1.2))\n",
    "for row in range(n_rows):\n",
    "    for col in range(n_cols):\n",
    "        index = n_cols * row + col\n",
    "        plt.subplot(n_rows, n_cols, index + 1)\n",
    "        plt.imshow(X_train[index], cmap=\"binary\", interpolation=\"nearest\")\n",
    "        plt.axis('off')\n",
    "        plt.title(class_names[y_train[index]], fontsize=12)\n",
    "plt.subplots_adjust(wspace=0.2, hspace=0.5)\n",
    "plt.show()"
   ]
  },
  {
   "cell_type": "markdown",
   "metadata": {},
   "source": [
    "# Zad\n",
    "Zbuduj i naucz sieć neuronową zgodnie z poniższym schematem. "
   ]
  },
  {
   "cell_type": "code",
   "execution_count": 12,
   "metadata": {},
   "outputs": [
    {
     "name": "stdout",
     "output_type": "stream",
     "text": [
      "Epoch 1/3\n",
      "1719/1719 [==============================] - 3s 2ms/step - loss: 1.9292 - accuracy: 0.4678 - val_loss: 1.4842 - val_accuracy: 0.6424\n",
      "Epoch 2/3\n",
      "1719/1719 [==============================] - 3s 1ms/step - loss: 1.2223 - accuracy: 0.6605 - val_loss: 1.0446 - val_accuracy: 0.6981\n",
      "Epoch 3/3\n",
      "1719/1719 [==============================] - 2s 1ms/step - loss: 0.9336 - accuracy: 0.7092 - val_loss: 0.8571 - val_accuracy: 0.7181\n"
     ]
    },
    {
     "data": {
      "image/png": "[encoded data removed]",
      "text/plain": [
       "<Figure size 576x360 with 1 Axes>"
      ]
     },
     "metadata": {
      "needs_background": "light"
     },
     "output_type": "display_data"
    }
   ],
   "source": [
    "from keras.models import Sequential\n",
    "from keras.layers import Dense\n",
    "from keras.layers import Flatten\n",
    " \n",
    "from keras.callbacks import History\n",
    "\n",
    "history = History()\n",
    "model = Sequential()\n",
    "model.add(Flatten())\n",
    "model.add(Dense(300,activation=\"sigmoid\", input_shape=(X_train.shape[1],)))\n",
    "model.add(Dense(100,activation=\"sigmoid\"))\n",
    "model.add(Dense(10,activation=\"sigmoid\"))\n",
    " \n",
    "model.compile(loss=\"sparse_categorical_crossentropy\",\n",
    "              optimizer=\"sgd\",\n",
    "              metrics=[\"accuracy\"])\n",
    " \n",
    "history = model.fit(X_train, y_train, validation_data= (X_test, y_test), batch_size=32, epochs=3)\n",
    " \n",
    "pd.DataFrame(history.history).plot(figsize=(8, 5))\n",
    "plt.grid(True)\n",
    "plt.gca().set_ylim(0, 1)\n",
    "plt.show()"
   ]
  },
  {
   "cell_type": "code",
   "execution_count": 13,
   "metadata": {},
   "outputs": [],
   "source": [
    "hidden1 = model.layers[1]\n",
    "hidden1.name\n",
    "\n",
    "weights, biases = hidden1.get_weights()"
   ]
  },
  {
   "cell_type": "code",
   "execution_count": 14,
   "metadata": {},
   "outputs": [
    {
     "data": {
      "text/plain": [
       "array([[-0.05520344,  0.03406855,  0.04402655, ...,  0.03054102,\n",
       "         0.07394797, -0.05633964],\n",
       "       [ 0.00228759, -0.07316122, -0.07023893, ...,  0.00702436,\n",
       "        -0.02174483, -0.00971211],\n",
       "       [ 0.0492187 , -0.00691399,  0.04771027, ..., -0.01197499,\n",
       "         0.05883931, -0.03829815],\n",
       "       ...,\n",
       "       [ 0.0617518 ,  0.06598438, -0.0391531 , ..., -0.01512294,\n",
       "        -0.03419385,  0.06171478],\n",
       "       [ 0.01397247, -0.03084759, -0.0109599 , ..., -0.00712997,\n",
       "         0.00733656,  0.03840926],\n",
       "       [ 0.03529681,  0.03872954,  0.01968303, ..., -0.00670641,\n",
       "         0.02398635,  0.01793317]], dtype=float32)"
      ]
     },
     "execution_count": 14,
     "metadata": {},
     "output_type": "execute_result"
    }
   ],
   "source": [
    "weights"
   ]
  },
  {
   "cell_type": "code",
   "execution_count": 15,
   "metadata": {},
   "outputs": [
    {
     "name": "stdout",
     "output_type": "stream",
     "text": [
      "(784, 300)\n"
     ]
    }
   ],
   "source": [
    "print(weights.shape)"
   ]
  },
  {
   "cell_type": "code",
   "execution_count": 16,
   "metadata": {},
   "outputs": [
    {
     "data": {
      "text/plain": [
       "array([-4.86143224e-04,  8.22026690e-04,  1.83553640e-02, -2.83198664e-03,\n",
       "        2.02168040e-02, -7.05426512e-03, -1.78739019e-02,  2.00164248e-03,\n",
       "        1.64661976e-03, -8.30817409e-03, -1.28467577e-02,  9.72863194e-03,\n",
       "        8.22605286e-03,  2.57803407e-02, -2.84731301e-04, -9.25205555e-03,\n",
       "        1.40090450e-03,  2.34118616e-03,  2.33317260e-03,  6.57992065e-03,\n",
       "        1.64847113e-02,  4.14833147e-03, -1.34407368e-03,  9.36814956e-03,\n",
       "       -2.62382138e-03, -7.74570927e-03, -2.59725074e-03,  2.48118909e-03,\n",
       "        1.93946678e-02,  4.38952539e-03, -1.49046746e-03, -2.03559268e-02,\n",
       "       -1.71709936e-02,  1.14111658e-02,  6.68199873e-03,  1.88906351e-03,\n",
       "       -6.97578536e-03,  1.33652063e-02,  1.65060663e-03,  7.22353812e-04,\n",
       "       -1.34778917e-02, -8.14828277e-03,  2.31563603e-03,  2.72833946e-04,\n",
       "        1.35085462e-02,  8.62611271e-03,  1.86200086e-02, -4.24667029e-03,\n",
       "       -6.05864800e-04, -1.12376455e-02, -4.70808893e-03,  2.92608095e-03,\n",
       "        1.73692554e-02, -1.29712382e-02, -1.56347398e-02, -6.93024555e-03,\n",
       "        1.87606178e-03,  1.49336027e-03, -5.77326864e-03,  6.17825706e-03,\n",
       "        4.22190735e-03,  1.29302079e-02, -6.72896067e-03, -1.65338852e-02,\n",
       "        6.20959047e-03, -4.50939639e-03,  3.92717961e-03, -1.97568000e-03,\n",
       "       -1.48593530e-03,  1.16516720e-03, -9.49960668e-03,  9.62665188e-04,\n",
       "       -1.03380543e-03, -5.97733632e-03,  4.42217151e-03, -1.11933972e-03,\n",
       "        2.06282753e-02,  1.64333335e-03, -1.56619605e-02, -7.80429598e-03,\n",
       "        5.46242110e-04,  8.35537631e-03,  4.84314468e-03, -1.85470760e-03,\n",
       "       -6.70508249e-03,  4.51397011e-03,  1.54160075e-02, -2.19938289e-02,\n",
       "        2.85686385e-02,  7.76934531e-03, -2.49085808e-03, -5.22575807e-03,\n",
       "        7.10306456e-03,  7.95329176e-03,  9.41727497e-03,  9.71540622e-03,\n",
       "        1.08811520e-02, -4.67240950e-03,  5.87729877e-03, -1.43475207e-02,\n",
       "        2.43258965e-03, -8.45760480e-03, -2.50035394e-02, -1.13904569e-02,\n",
       "        2.21492629e-03, -1.93991847e-02, -7.45076081e-03, -3.57582234e-03,\n",
       "        1.69261787e-02, -1.52183231e-03, -1.00685861e-02,  1.85739212e-02,\n",
       "        4.88110585e-03, -5.65293338e-03, -8.14367365e-03,  3.10012768e-03,\n",
       "        4.80408315e-03,  2.21777614e-02,  3.97549616e-03,  8.18204693e-03,\n",
       "        4.74669458e-03, -5.49061224e-03, -9.49917361e-03, -1.03367679e-02,\n",
       "        1.49694560e-02,  3.73205706e-03, -4.02109977e-03, -1.18001935e-03,\n",
       "       -3.96484073e-04, -1.14129577e-02,  5.70624880e-03,  2.08175159e-03,\n",
       "        9.43419710e-03, -9.03846137e-03,  1.00561175e-02, -6.39342517e-03,\n",
       "        1.85159710e-03,  5.40447002e-03,  9.33411415e-04, -1.60002115e-03,\n",
       "       -3.54049262e-03,  9.35650524e-03, -2.87694158e-03, -1.09591056e-02,\n",
       "        2.08881358e-03,  1.21335767e-03,  1.61403255e-03, -7.39982678e-03,\n",
       "        2.80231773e-03,  1.40969700e-03, -5.16991783e-03, -1.55006954e-02,\n",
       "       -1.79332085e-02,  1.85494646e-02, -5.89394523e-03, -4.12730826e-03,\n",
       "        1.07389195e-02, -1.23771038e-02,  4.65364661e-03,  5.76183992e-03,\n",
       "        2.32950528e-03, -2.55556102e-03,  1.72884110e-03, -9.63012036e-03,\n",
       "        1.12229902e-02,  7.31511693e-03,  9.61188416e-05,  5.12120966e-03,\n",
       "        5.29486546e-03,  1.25636104e-02, -9.71022435e-03, -3.80817405e-03,\n",
       "       -4.56740847e-03,  1.38229979e-02, -8.46894830e-03,  8.06942768e-03,\n",
       "       -1.28296679e-02, -7.39057665e-04,  4.40063537e-04,  1.10696116e-02,\n",
       "       -9.08645708e-03,  2.99572223e-03, -2.71681091e-03, -4.88483254e-03,\n",
       "        9.77860484e-03,  3.55510088e-03,  1.71013996e-02, -7.38846511e-03,\n",
       "        2.63319846e-04,  1.58519112e-02,  3.23979021e-03,  9.46458150e-03,\n",
       "        8.06586526e-04, -1.31584564e-03,  2.41700746e-03,  7.43067637e-03,\n",
       "        2.09654937e-03,  9.76242218e-03, -6.67106500e-03,  1.32313007e-02,\n",
       "       -4.45652660e-03,  1.67941973e-02, -9.13038943e-03, -6.21871091e-03,\n",
       "       -5.12753101e-03, -5.90370269e-03,  1.13678584e-03, -1.72373047e-03,\n",
       "       -3.76654021e-03,  2.50304141e-03, -7.01763015e-03, -1.16197895e-02,\n",
       "        8.27215496e-04,  6.92293339e-04, -9.27007478e-03,  1.45626720e-02,\n",
       "        8.61491635e-03,  2.29339628e-03,  7.60109397e-03,  4.10024868e-03,\n",
       "       -3.30054504e-03,  2.07985267e-02,  3.63858161e-03,  9.96735133e-03,\n",
       "        1.05142519e-02, -9.61640105e-03, -5.44328569e-03,  7.88267888e-03,\n",
       "       -5.59229311e-03, -1.58532418e-03,  4.77074180e-03, -8.59187171e-03,\n",
       "        1.26586789e-02,  7.47130858e-03, -2.89938482e-03,  1.57819479e-03,\n",
       "       -5.49988123e-03,  1.20925317e-02, -4.69077658e-03,  4.11074422e-03,\n",
       "       -8.99396464e-03, -6.40739128e-03,  8.72666016e-03, -4.14828816e-03,\n",
       "        9.91724338e-03,  1.47590563e-02, -3.80782923e-03,  4.38773743e-04,\n",
       "       -1.05387876e-02,  3.96180665e-03, -6.53726049e-03, -1.55754518e-02,\n",
       "        1.12482905e-02, -5.58499573e-03,  6.61707483e-03,  4.76576760e-03,\n",
       "        2.67992495e-03, -9.45798215e-03,  6.56462880e-03, -9.73533466e-03,\n",
       "       -1.65476103e-03,  1.15370844e-02, -1.60560049e-02,  1.52054029e-02,\n",
       "        6.23820699e-04, -7.28170760e-03,  5.17603802e-03,  1.19330222e-02,\n",
       "       -3.53750470e-03,  1.28054526e-02, -2.36230716e-03,  4.08390258e-03,\n",
       "       -7.24361511e-04, -9.41511337e-03,  4.73783771e-03,  2.28474243e-03,\n",
       "       -1.06774326e-02,  1.92119684e-02,  4.54728771e-03, -4.62304289e-03,\n",
       "       -5.99046750e-03, -1.13080600e-02, -5.69757633e-03, -1.85831748e-02,\n",
       "        1.35100512e-02, -8.23937356e-03,  1.67798232e-02,  3.67686106e-03,\n",
       "        1.93754993e-02,  7.90845079e-04,  7.59558100e-03,  1.25168066e-03,\n",
       "       -6.75252057e-04,  7.77679496e-03,  1.56808235e-02,  5.16344933e-03,\n",
       "        2.42332253e-03,  3.82894347e-03,  2.64988770e-03,  4.17191116e-03],\n",
       "      dtype=float32)"
      ]
     },
     "execution_count": 16,
     "metadata": {},
     "output_type": "execute_result"
    }
   ],
   "source": [
    "biases"
   ]
  },
  {
   "cell_type": "code",
   "execution_count": 17,
   "metadata": {},
   "outputs": [],
   "source": [
    "model.compile(loss=\"sparse_categorical_crossentropy\",\n",
    "              optimizer=\"sgd\",\n",
    "              metrics=[\"accuracy\"])"
   ]
  },
  {
   "cell_type": "markdown",
   "metadata": {},
   "source": [
    "Mozna też uzyć w tej formie:\n",
    "\n",
    "```python\n",
    "model.compile(loss=keras.losses.sparse_categorical_crossentropy,\n",
    "              optimizer=keras.optimizers.SGD(),\n",
    "              metrics=[keras.metrics.sparse_categorical_accuracy])\n",
    "```"
   ]
  },
  {
   "cell_type": "code",
   "execution_count": null,
   "metadata": {},
   "outputs": [],
   "source": []
  },
  {
   "cell_type": "code",
   "execution_count": 18,
   "metadata": {},
   "outputs": [
    {
     "data": {
      "text/plain": [
       "{'verbose': 1, 'epochs': 3, 'steps': 1719}"
      ]
     },
     "execution_count": 18,
     "metadata": {},
     "output_type": "execute_result"
    }
   ],
   "source": [
    " history.params"
   ]
  },
  {
   "cell_type": "code",
   "execution_count": 19,
   "metadata": {},
   "outputs": [
    {
     "name": "stdout",
     "output_type": "stream",
     "text": [
      "[0, 1, 2]\n"
     ]
    }
   ],
   "source": [
    " print(history.epoch)"
   ]
  },
  {
   "cell_type": "code",
   "execution_count": 20,
   "metadata": {},
   "outputs": [
    {
     "data": {
      "text/plain": [
       "dict_keys(['loss', 'accuracy', 'val_loss', 'val_accuracy'])"
      ]
     },
     "execution_count": 20,
     "metadata": {},
     "output_type": "execute_result"
    }
   ],
   "source": [
    "history.history.keys()"
   ]
  },
  {
   "cell_type": "code",
   "execution_count": 21,
   "metadata": {},
   "outputs": [
    {
     "data": {
      "image/png": "[encoded data removed]",
      "text/plain": [
       "<Figure size 576x360 with 1 Axes>"
      ]
     },
     "metadata": {
      "needs_background": "light"
     },
     "output_type": "display_data"
    }
   ],
   "source": [
    "import pandas as pd\n",
    "\n",
    "pd.DataFrame(history.history).plot(figsize=(8, 5))\n",
    "plt.grid(True)\n",
    "plt.gca().set_ylim(0, 1)\n",
    "plt.show()"
   ]
  },
  {
   "cell_type": "code",
   "execution_count": 22,
   "metadata": {},
   "outputs": [
    {
     "name": "stdout",
     "output_type": "stream",
     "text": [
      "313/313 [==============================] - 0s 886us/step - loss: 0.8571 - accuracy: 0.7181\n"
     ]
    },
    {
     "data": {
      "text/plain": [
       "[0.8570573925971985, 0.7181000113487244]"
      ]
     },
     "execution_count": 22,
     "metadata": {},
     "output_type": "execute_result"
    }
   ],
   "source": [
    " model.evaluate(X_test, y_test)"
   ]
  },
  {
   "cell_type": "code",
   "execution_count": 23,
   "metadata": {},
   "outputs": [
    {
     "data": {
      "text/plain": [
       "array([[0.05, 0.01, 0.15, 0.1 , 0.07, 0.97, 0.23, 0.95, 0.85, 0.97],\n",
       "       [0.62, 0.03, 0.97, 0.22, 0.96, 0.07, 0.94, 0.01, 0.73, 0.05],\n",
       "       [0.8 , 0.99, 0.34, 0.96, 0.59, 0.17, 0.64, 0.05, 0.01, 0.  ]],\n",
       "      dtype=float32)"
      ]
     },
     "execution_count": 23,
     "metadata": {},
     "output_type": "execute_result"
    }
   ],
   "source": [
    "X_new = X_test[:3]\n",
    "y_proba = model.predict(X_new)\n",
    "y_proba.round(2)"
   ]
  },
  {
   "cell_type": "code",
   "execution_count": 26,
   "metadata": {},
   "outputs": [
    {
     "data": {
      "text/plain": [
       "array([[0.04894608, 0.00777382, 0.15347248, 0.09526184, 0.06866187,\n",
       "        0.96782494, 0.22837716, 0.954602  , 0.85460496, 0.9725628 ],\n",
       "       [0.62173915, 0.0343346 , 0.97417283, 0.21943554, 0.9617144 ,\n",
       "        0.06658718, 0.94208455, 0.00671622, 0.72744346, 0.04674539],\n",
       "       [0.80212516, 0.9948473 , 0.3411922 , 0.9639002 , 0.588951  ,\n",
       "        0.1671716 , 0.6443514 , 0.04859465, 0.00740734, 0.002067  ]],\n",
       "      dtype=float32)"
      ]
     },
     "execution_count": 26,
     "metadata": {},
     "output_type": "execute_result"
    }
   ],
   "source": [
    "y_pred = model.predict(X_new)\n",
    "y_pred"
   ]
  },
  {
   "cell_type": "code",
   "execution_count": 28,
   "metadata": {},
   "outputs": [
    {
     "ename": "IndexError",
     "evalue": "arrays used as indices must be of integer (or boolean) type",
     "output_type": "error",
     "traceback": [
      "\u001b[1;31m---------------------------------------------------------------------------\u001b[0m",
      "\u001b[1;31mIndexError\u001b[0m                                Traceback (most recent call last)",
      "\u001b[1;32m~\\AppData\\Local\\Temp/ipykernel_1860/1427222539.py\u001b[0m in \u001b[0;36m<module>\u001b[1;34m\u001b[0m\n\u001b[1;32m----> 1\u001b[1;33m \u001b[0mnp\u001b[0m\u001b[1;33m.\u001b[0m\u001b[0marray\u001b[0m\u001b[1;33m(\u001b[0m\u001b[0mclass_names\u001b[0m\u001b[1;33m)\u001b[0m\u001b[1;33m[\u001b[0m\u001b[0my_pred\u001b[0m\u001b[1;33m]\u001b[0m\u001b[1;33m\u001b[0m\u001b[1;33m\u001b[0m\u001b[0m\n\u001b[0m",
      "\u001b[1;31mIndexError\u001b[0m: arrays used as indices must be of integer (or boolean) type"
     ]
    }
   ],
   "source": [
    "np.array(class_names)[y_pred]"
   ]
  },
  {
   "cell_type": "code",
   "execution_count": 29,
   "metadata": {},
   "outputs": [
    {
     "data": {
      "image/png": "[encoded data removed]",
      "text/plain": [
       "<Figure size 518.4x172.8 with 3 Axes>"
      ]
     },
     "metadata": {
      "needs_background": "light"
     },
     "output_type": "display_data"
    }
   ],
   "source": [
    "plt.figure(figsize=(7.2, 2.4))\n",
    "for index, image in enumerate(X_new):\n",
    "    plt.subplot(1, 3, index + 1)\n",
    "    plt.imshow(image, cmap=\"binary\", interpolation=\"nearest\")\n",
    "    plt.axis('off')\n",
    "    plt.title(class_names[y_test[index]], fontsize=12)\n",
    "plt.subplots_adjust(wspace=0.2, hspace=0.5)\n",
    "plt.show()"
   ]
  },
  {
   "cell_type": "code",
   "execution_count": null,
   "metadata": {},
   "outputs": [],
   "source": []
  }
 ],
 "metadata": {
  "kernelspec": {
   "display_name": "Python 3 (ipykernel)",
   "language": "python",
   "name": "python3"
  },
  "language_info": {
   "codemirror_mode": {
    "name": "ipython",
    "version": 3
   },
   "file_extension": ".py",
   "mimetype": "text/x-python",
   "name": "python",
   "nbconvert_exporter": "python",
   "pygments_lexer": "ipython3",
   "version": "3.9.7"
  }
 },
 "nbformat": 4,
 "nbformat_minor": 4
}
