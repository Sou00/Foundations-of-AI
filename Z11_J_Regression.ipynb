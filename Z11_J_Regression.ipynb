{
 "cells": [
  {
   "cell_type": "code",
   "execution_count": 1,
   "metadata": {},
   "outputs": [
    {
     "name": "stdout",
     "output_type": "stream",
     "text": [
      "2.8.0\n",
      "2.8.0\n"
     ]
    }
   ],
   "source": [
    "import tensorflow as tf\n",
    "from tensorflow import keras\n",
    "from keras.callbacks import History\n",
    "print(tf.__version__)\n",
    "\n",
    "print(keras.__version__)"
   ]
  },
  {
   "cell_type": "code",
   "execution_count": 2,
   "metadata": {},
   "outputs": [],
   "source": [
    "import numpy as np\n",
    "import pandas as pd\n",
    "import matplotlib.pyplot as plt\n",
    "import os"
   ]
  },
  {
   "cell_type": "code",
   "execution_count": 3,
   "metadata": {},
   "outputs": [],
   "source": [
    "from sklearn.datasets import fetch_california_housing\n",
    "from sklearn.model_selection import train_test_split\n",
    "from sklearn.preprocessing import StandardScaler\n",
    "\n",
    "\n",
    "housing = fetch_california_housing()\n",
    "\n",
    "X_train_full, X_test, y_train_full, y_test = train_test_split(housing.data, housing.target, random_state=42)\n",
    "X_train, X_valid, y_train, y_valid = train_test_split(X_train_full, y_train_full, random_state=42)\n",
    "\n"
   ]
  },
  {
   "cell_type": "code",
   "execution_count": 4,
   "metadata": {},
   "outputs": [],
   "source": [
    "np.random.seed(42)\n",
    "tf.random.set_seed(42)"
   ]
  },
  {
   "cell_type": "code",
   "execution_count": 5,
   "metadata": {},
   "outputs": [
    {
     "name": "stdout",
     "output_type": "stream",
     "text": [
      "Epoch 1/20\n"
     ]
    },
    {
     "name": "stderr",
     "output_type": "stream",
     "text": [
      "C:\\Users\\Sou\\anaconda3\\lib\\site-packages\\keras\\optimizer_v2\\gradient_descent.py:102: UserWarning: The `lr` argument is deprecated, use `learning_rate` instead.\n",
      "  super(SGD, self).__init__(name, **kwargs)\n"
     ]
    },
    {
     "name": "stdout",
     "output_type": "stream",
     "text": [
      "363/363 [==============================] - 1s 1ms/step - loss: 1.3644 - val_loss: 1.3181\n",
      "Epoch 2/20\n",
      "363/363 [==============================] - 0s 807us/step - loss: 1.3437 - val_loss: 1.3216\n",
      "Epoch 3/20\n",
      "363/363 [==============================] - 0s 860us/step - loss: 1.3420 - val_loss: 1.3181\n",
      "Epoch 4/20\n",
      "363/363 [==============================] - 0s 771us/step - loss: 1.3424 - val_loss: 1.3213\n",
      "Epoch 5/20\n",
      "363/363 [==============================] - 0s 782us/step - loss: 1.3421 - val_loss: 1.3160\n",
      "Epoch 6/20\n",
      "363/363 [==============================] - 0s 767us/step - loss: 1.3426 - val_loss: 1.3189\n",
      "Epoch 7/20\n",
      "363/363 [==============================] - 0s 774us/step - loss: 1.3431 - val_loss: 1.3136\n",
      "Epoch 8/20\n",
      "363/363 [==============================] - 0s 783us/step - loss: 1.3422 - val_loss: 1.3157\n",
      "Epoch 9/20\n",
      "363/363 [==============================] - 0s 778us/step - loss: 1.3424 - val_loss: 1.3161\n",
      "Epoch 10/20\n",
      "363/363 [==============================] - 0s 784us/step - loss: 1.3409 - val_loss: 1.3164\n",
      "Epoch 11/20\n",
      "363/363 [==============================] - 0s 776us/step - loss: 1.3421 - val_loss: 1.3165\n",
      "Epoch 12/20\n",
      "363/363 [==============================] - 0s 771us/step - loss: 1.3405 - val_loss: 1.3162\n",
      "Epoch 13/20\n",
      "363/363 [==============================] - 0s 770us/step - loss: 1.3412 - val_loss: 1.3275\n",
      "Epoch 14/20\n",
      "363/363 [==============================] - 0s 763us/step - loss: 1.3419 - val_loss: 1.3205\n",
      "Epoch 15/20\n",
      "363/363 [==============================] - 0s 787us/step - loss: 1.3409 - val_loss: 1.3161\n",
      "Epoch 16/20\n",
      "363/363 [==============================] - 0s 839us/step - loss: 1.3407 - val_loss: 1.3182\n",
      "Epoch 17/20\n",
      "363/363 [==============================] - 0s 818us/step - loss: 1.3410 - val_loss: 1.3209\n",
      "Epoch 18/20\n",
      "363/363 [==============================] - 0s 801us/step - loss: 1.3407 - val_loss: 1.3156\n",
      "Epoch 19/20\n",
      "363/363 [==============================] - 0s 790us/step - loss: 1.3405 - val_loss: 1.3189\n",
      "Epoch 20/20\n",
      "363/363 [==============================] - 0s 782us/step - loss: 1.3403 - val_loss: 1.3161\n",
      "162/162 [==============================] - 0s 546us/step - loss: 1.3251\n"
     ]
    }
   ],
   "source": [
    "model = keras.models.Sequential([\n",
    "    keras.layers.Dense(30, activation=\"tanh\", input_shape=X_train.shape[1:]),\n",
    "    keras.layers.Dense(1)\n",
    "])\n",
    "history = History()\n",
    "\n",
    "model.compile(loss=\"mean_squared_error\", optimizer=keras.optimizers.SGD(lr=1e-3))\n",
    "history = model.fit(X_train, y_train, epochs=20, validation_data=(X_valid, y_valid))\n",
    "mse_test = model.evaluate(X_test, y_test)\n",
    "X_new = X_test[:3]\n",
    "y_pred = model.predict(X_new)"
   ]
  },
  {
   "cell_type": "code",
   "execution_count": 6,
   "metadata": {},
   "outputs": [
    {
     "data": {
      "image/png": "[encoded data removed]",
      "text/plain": [
       "<Figure size 432x288 with 1 Axes>"
      ]
     },
     "metadata": {
      "needs_background": "light"
     },
     "output_type": "display_data"
    }
   ],
   "source": [
    "plt.plot(pd.DataFrame(history.history))\n",
    "plt.grid(True)\n",
    "plt.show()"
   ]
  },
  {
   "cell_type": "markdown",
   "metadata": {},
   "source": [
    "# Zad\n",
    "\n",
    "Porównaj powyższy wynik z nauką na danych znormalizowanych."
   ]
  },
  {
   "cell_type": "code",
   "execution_count": 7,
   "metadata": {},
   "outputs": [
    {
     "name": "stdout",
     "output_type": "stream",
     "text": [
      "Epoch 1/20\n",
      "363/363 [==============================] - 1s 1ms/step - loss: 1.7410 - val_loss: 0.5820\n",
      "Epoch 2/20\n",
      "363/363 [==============================] - 0s 895us/step - loss: 0.5370 - val_loss: 0.4949\n",
      "Epoch 3/20\n",
      "363/363 [==============================] - 0s 858us/step - loss: 0.5028 - val_loss: 0.4792\n",
      "Epoch 4/20\n",
      "363/363 [==============================] - 0s 852us/step - loss: 0.4897 - val_loss: 0.4699\n",
      "Epoch 5/20\n",
      "363/363 [==============================] - 0s 822us/step - loss: 0.4816 - val_loss: 0.4639\n",
      "Epoch 6/20\n",
      "363/363 [==============================] - 0s 829us/step - loss: 0.4763 - val_loss: 0.4603\n",
      "Epoch 7/20\n",
      "363/363 [==============================] - 0s 895us/step - loss: 0.4728 - val_loss: 0.4576\n",
      "Epoch 8/20\n",
      "363/363 [==============================] - 0s 819us/step - loss: 0.4704 - val_loss: 0.4556\n",
      "Epoch 9/20\n",
      "363/363 [==============================] - 0s 829us/step - loss: 0.4685 - val_loss: 0.4544\n",
      "Epoch 10/20\n",
      "363/363 [==============================] - 0s 900us/step - loss: 0.4670 - val_loss: 0.4533\n",
      "Epoch 11/20\n",
      "363/363 [==============================] - 0s 909us/step - loss: 0.4656 - val_loss: 0.4525\n",
      "Epoch 12/20\n",
      "363/363 [==============================] - 0s 829us/step - loss: 0.4646 - val_loss: 0.4514\n",
      "Epoch 13/20\n",
      "363/363 [==============================] - 0s 825us/step - loss: 0.4633 - val_loss: 0.4505\n",
      "Epoch 14/20\n",
      "363/363 [==============================] - 0s 824us/step - loss: 0.4623 - val_loss: 0.4496\n",
      "Epoch 15/20\n",
      "363/363 [==============================] - 0s 818us/step - loss: 0.4612 - val_loss: 0.4490\n",
      "Epoch 16/20\n",
      "363/363 [==============================] - 0s 839us/step - loss: 0.4602 - val_loss: 0.4483\n",
      "Epoch 17/20\n",
      "363/363 [==============================] - 0s 877us/step - loss: 0.4592 - val_loss: 0.4476\n",
      "Epoch 18/20\n",
      "363/363 [==============================] - 0s 880us/step - loss: 0.4583 - val_loss: 0.4467\n",
      "Epoch 19/20\n",
      "363/363 [==============================] - 0s 837us/step - loss: 0.4575 - val_loss: 0.4460\n",
      "Epoch 20/20\n",
      "363/363 [==============================] - 0s 874us/step - loss: 0.4567 - val_loss: 0.4455\n"
     ]
    }
   ],
   "source": [
    "from sklearn.preprocessing import StandardScaler\n",
    "\n",
    "history2 = History()\n",
    "\n",
    "\n",
    "scaler = StandardScaler()\n",
    "scaler.fit(X_train)\n",
    "X_train_scaled = scaler.transform(X_train)\n",
    "X_test_scaled = scaler.transform(X_test)\n",
    "\n",
    " \n",
    "\n",
    "history2 = model.fit(X_train_scaled, y_train, validation_data= (X_test_scaled, y_test), batch_size=32, epochs=20)"
   ]
  },
  {
   "cell_type": "code",
   "execution_count": 8,
   "metadata": {},
   "outputs": [
    {
     "data": {
      "image/png": "[encoded data removed]",
      "text/plain": [
       "<Figure size 432x288 with 1 Axes>"
      ]
     },
     "metadata": {
      "needs_background": "light"
     },
     "output_type": "display_data"
    }
   ],
   "source": [
    "plt.plot(pd.DataFrame(history.history))\n",
    "plt.plot(pd.DataFrame(history2.history))\n",
    "plt.grid(True)\n",
    "plt.show()"
   ]
  },
  {
   "cell_type": "markdown",
   "metadata": {},
   "source": [
    "# Dane zawsze muszą być przeskalowane"
   ]
  },
  {
   "cell_type": "code",
   "execution_count": null,
   "metadata": {},
   "outputs": [],
   "source": []
  }
 ],
 "metadata": {
  "kernelspec": {
   "display_name": "Python 3 (ipykernel)",
   "language": "python",
   "name": "python3"
  },
  "language_info": {
   "codemirror_mode": {
    "name": "ipython",
    "version": 3
   },
   "file_extension": ".py",
   "mimetype": "text/x-python",
   "name": "python",
   "nbconvert_exporter": "python",
   "pygments_lexer": "ipython3",
   "version": "3.9.7"
  }
 },
 "nbformat": 4,
 "nbformat_minor": 4
}
