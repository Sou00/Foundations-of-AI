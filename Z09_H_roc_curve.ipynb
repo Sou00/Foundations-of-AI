{
 "cells": [
  {
   "cell_type": "code",
   "execution_count": 7,
   "metadata": {},
   "outputs": [],
   "source": [
    "import numpy as np\n",
    "import matplotlib.pyplot as plt\n",
    "from sklearn import datasets"
   ]
  },
  {
   "cell_type": "markdown",
   "metadata": {},
   "source": [
    "# roc curve"
   ]
  },
  {
   "cell_type": "code",
   "execution_count": 8,
   "metadata": {},
   "outputs": [],
   "source": [
    "np.random.seed(1)\n",
    "cancer = datasets.load_breast_cancer()\n",
    "# print description\n",
    "# print(cancer.DESCR)"
   ]
  },
  {
   "cell_type": "code",
   "execution_count": 9,
   "metadata": {},
   "outputs": [],
   "source": [
    "# get the data\n",
    "X = cancer.data\n",
    "y = cancer.target"
   ]
  },
  {
   "cell_type": "markdown",
   "metadata": {},
   "source": [
    "Podzielmy zbiór na część testową i treningową."
   ]
  },
  {
   "cell_type": "code",
   "execution_count": 10,
   "metadata": {},
   "outputs": [
    {
     "data": {
      "image/png": "[encoded data removed]",
      "text/plain": [
       "<Figure size 432x288 with 1 Axes>"
      ]
     },
     "metadata": {
      "needs_background": "light"
     },
     "output_type": "display_data"
    }
   ],
   "source": [
    "from sklearn.model_selection import train_test_split\n",
    "X_train, X_test, y_train, y_test = train_test_split(X, y, test_size=0.33, random_state=42)\n",
    "\n",
    "plt.hist(y_train, alpha=0.5)\n",
    "plt.hist(y_test, alpha=0.5)\n",
    "plt.show()"
   ]
  },
  {
   "cell_type": "code",
   "execution_count": 11,
   "metadata": {},
   "outputs": [],
   "source": [
    "from sklearn.svm import SVC\n",
    "from sklearn.linear_model import LogisticRegression"
   ]
  },
  {
   "cell_type": "markdown",
   "metadata": {},
   "source": [
    "Zad.\n",
    "Naucz \n",
    "\n",
    "* SVC()\n",
    "* SVC(C=1, gamma=0.00001)\n",
    "* LogisticRegression(C=1)\n",
    "\n",
    "Dla wszystkich modleli wylicz:\n",
    "\n",
    "* precision    \n",
    "* recall  \n",
    "* f1-score\n",
    "* accuracy\n",
    "* roc_auc_score\n",
    "\n",
    "i narysuj krzywą roc"
   ]
  },
  {
   "cell_type": "code",
   "execution_count": 12,
   "metadata": {},
   "outputs": [
    {
     "name": "stdout",
     "output_type": "stream",
     "text": [
      "\n",
      "svc\n",
      "\n",
      "R^2: 0.9375\n",
      "recall_score: 0.9917355371900827\n",
      "f1_score: 0.963855421686747\n",
      "accuracy_score: 0.9521276595744681\n",
      "roc_score: 0.936166276057728\n",
      "\n",
      "svc_params\n",
      "\n",
      "R^2: 0.9448818897637795\n",
      "recall_score: 0.9917355371900827\n",
      "f1_score: 0.9677419354838711\n",
      "accuracy_score: 0.9574468085106383\n",
      "roc_score: 0.9436289626248922\n",
      "\n",
      "lr\n",
      "\n",
      "R^2: 0.9669421487603306\n",
      "recall_score: 0.9669421487603306\n",
      "f1_score: 0.9669421487603306\n",
      "accuracy_score: 0.9574468085106383\n",
      "roc_score: 0.9536203281115087\n"
     ]
    },
    {
     "name": "stderr",
     "output_type": "stream",
     "text": [
      "C:\\Users\\Sou\\anaconda3\\lib\\site-packages\\sklearn\\linear_model\\_logistic.py:763: ConvergenceWarning: lbfgs failed to converge (status=1):\n",
      "STOP: TOTAL NO. of ITERATIONS REACHED LIMIT.\n",
      "\n",
      "Increase the number of iterations (max_iter) or scale the data as shown in:\n",
      "    https://scikit-learn.org/stable/modules/preprocessing.html\n",
      "Please also refer to the documentation for alternative solver options:\n",
      "    https://scikit-learn.org/stable/modules/linear_model.html#logistic-regression\n",
      "  n_iter_i = _check_optimize_result(\n"
     ]
    },
    {
     "data": {
      "image/png": "[encoded data removed]",
      "text/plain": [
       "<Figure size 432x288 with 1 Axes>"
      ]
     },
     "metadata": {
      "needs_background": "light"
     },
     "output_type": "display_data"
    }
   ],
   "source": [
    "from sklearn import linear_model\n",
    "from sklearn.svm import SVC\n",
    "from sklearn import  metrics\n",
    "from sklearn.metrics import roc_auc_score\n",
    " \n",
    "models = dict()\n",
    "clf1 = SVC(probability=True)\n",
    "models['svc'] = clf1\n",
    "clf2 = SVC(C=1, gamma=0.00001, probability=True)\n",
    "models['svc_params'] = clf2\n",
    "clf3 = LogisticRegression(C=1)\n",
    "models['lr'] = clf3\n",
    " \n",
    "for _, model in models.items():\n",
    "    model.fit(X_train, y_train)\n",
    "   \n",
    "precision_score = []\n",
    "recall_score = []\n",
    "f1_score = []\n",
    "accuracy_score = []\n",
    "for name, model in models.items():\n",
    "    print( '\\n' + name + '\\n')\n",
    "    print(\"R^2: {}\".format(metrics.precision_score(y_test, model.predict(X_test)) ))\n",
    "    print(\"recall_score: {}\".format( metrics.recall_score(y_test, model.predict(X_test)) ))\n",
    "    print(\"f1_score: {}\".format( metrics.f1_score(y_test, model.predict(X_test)) ))\n",
    "    print(\"accuracy_score: {}\".format( metrics.accuracy_score(y_test, model.predict(X_test)) ))\n",
    "    print(\"roc_score: {}\".format( roc_auc_score(y_test, model.predict(X_test))))\n",
    "   \n",
    "    # calculate the fpr and tpr for all thresholds of the classification\n",
    "    probs = model.predict_proba(X_test)\n",
    "    preds = probs[:,1]\n",
    "    fpr, tpr, threshold = metrics.roc_curve(y_test, preds)\n",
    "    roc_auc = metrics.auc(fpr, tpr)\n",
    " \n",
    "    # method I: plt\n",
    "    import matplotlib.pyplot as plt\n",
    "    plt.title('Receiver Operating Characteristic')\n",
    "    plt.plot(fpr, tpr, label = '%s AUC = %0.10f' % (name, roc_auc))\n",
    "    plt.legend(loc = 'lower right')\n",
    "    plt.plot([-0.1, 1.1], [0, 1],'r--')\n",
    "    plt.xlim([-0.1, 1.1])\n",
    "    plt.ylim([-0.1, 1.1])\n",
    "    plt.ylabel('True Positive Rate')\n",
    "    plt.xlabel('False Positive Rate')\n",
    "plt.show()"
   ]
  },
  {
   "cell_type": "code",
   "execution_count": null,
   "metadata": {},
   "outputs": [],
   "source": []
  }
 ],
 "metadata": {
  "kernelspec": {
   "display_name": "Python 3 (ipykernel)",
   "language": "python",
   "name": "python3"
  },
  "language_info": {
   "codemirror_mode": {
    "name": "ipython",
    "version": 3
   },
   "file_extension": ".py",
   "mimetype": "text/x-python",
   "name": "python",
   "nbconvert_exporter": "python",
   "pygments_lexer": "ipython3",
   "version": "3.9.7"
  }
 },
 "nbformat": 4,
 "nbformat_minor": 2
}
