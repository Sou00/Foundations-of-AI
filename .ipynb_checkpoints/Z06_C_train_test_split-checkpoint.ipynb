{
 "cells": [
  {
   "cell_type": "markdown",
   "metadata": {},
   "source": [
    "# Train test split\n"
   ]
  },
  {
   "cell_type": "code",
   "execution_count": 1,
   "metadata": {},
   "outputs": [],
   "source": [
    "import numpy as np\n",
    "import pandas as pd\n",
    "import scipy.stats as stats\n",
    "import sklearn.linear_model as lm\n",
    "from sklearn import datasets, linear_model\n",
    "import matplotlib.pyplot as plt\n",
    "\n",
    "from sklearn.preprocessing import PolynomialFeatures\n",
    "from sklearn.pipeline import make_pipeline\n",
    "\n",
    "from sklearn import  metrics"
   ]
  },
  {
   "cell_type": "markdown",
   "metadata": {},
   "source": [
    "Rozważmy następujący zbiór punktów:"
   ]
  },
  {
   "cell_type": "code",
   "execution_count": 2,
   "metadata": {},
   "outputs": [
    {
     "data": {
      "image/png": "[encoded data removed]",
      "text/plain": [
       "<Figure size 432x288 with 1 Axes>"
      ]
     },
     "metadata": {
      "needs_background": "light"
     },
     "output_type": "display_data"
    }
   ],
   "source": [
    "x = stats.uniform(0,3).rvs(100)\n",
    "f = lambda x: ((x*2-1)*(x**2-2)*(x-2)+3)\n",
    "y = f(x) + stats.norm(0,0.3).rvs(len(x))\n",
    "plt.plot(x, y, 'ok', ms=10);\n",
    "plt.show()"
   ]
  },
  {
   "cell_type": "markdown",
   "metadata": {},
   "source": [
    "# Przykład\n",
    "Podziel zbiór danych na część testową i treningową. \n",
    "Naucz model na części treningowej i ocen wyniki na części testowej."
   ]
  },
  {
   "cell_type": "code",
   "execution_count": 3,
   "metadata": {},
   "outputs": [
    {
     "name": "stdout",
     "output_type": "stream",
     "text": [
      "(60,) (60,)\n",
      "(40,) (40,)\n"
     ]
    }
   ],
   "source": [
    "from sklearn.model_selection import train_test_split\n",
    "X_train, X_test, y_train, y_test = train_test_split(x, y, test_size=0.4, random_state=0)\n",
    "\n",
    "print(X_train.shape, y_train.shape)\n",
    "print(X_test.shape, y_test.shape)"
   ]
  },
  {
   "cell_type": "code",
   "execution_count": 4,
   "metadata": {},
   "outputs": [],
   "source": [
    "X_train=np.vstack(X_train)\n",
    "X_test=np.vstack(X_test)"
   ]
  },
  {
   "cell_type": "code",
   "execution_count": 5,
   "metadata": {},
   "outputs": [
    {
     "data": {
      "text/plain": [
       "array([ 2.94438847e-01,  1.93939775e+01,  4.01786579e-01,  2.37454188e+00,\n",
       "        1.78689461e+01,  5.01502316e-01,  1.77888226e+00,  3.20656646e+00,\n",
       "        1.35891572e+01, -3.22437111e-03,  3.94065962e+00, -1.89374851e-02,\n",
       "        1.64892599e+01,  2.01179296e-01,  7.19671909e-01,  2.07695353e+01,\n",
       "        7.98683700e-01,  1.26512171e+01,  3.55481479e+00,  2.48037847e+01,\n",
       "        1.13665722e+01,  4.35610006e+00,  2.29613527e+01,  3.35624571e+00,\n",
       "        1.55789533e+00,  3.62442080e+00,  1.86703088e+01,  1.20578661e+01,\n",
       "        1.58648909e+01,  3.05489814e-01,  5.68961349e-02,  6.11471429e+00,\n",
       "        4.23874823e+00,  2.22511359e+01,  2.46327627e+01,  2.32463791e+01,\n",
       "        7.80352930e-01,  7.88701444e+00,  4.29165407e+00,  5.23356426e+00])"
      ]
     },
     "execution_count": 5,
     "metadata": {},
     "output_type": "execute_result"
    }
   ],
   "source": [
    "model2 = make_pipeline(PolynomialFeatures(2), linear_model.LinearRegression())\n",
    "model2.fit(X_train, y_train)\n",
    "model2.predict(X_test)"
   ]
  },
  {
   "cell_type": "code",
   "execution_count": 6,
   "metadata": {},
   "outputs": [
    {
     "name": "stdout",
     "output_type": "stream",
     "text": [
      "Explained variance score: 0.8384811415489355\n",
      "Explained variance score: 0.8384811415489355\n",
      "Median absolute error: 3.219301804151468\n",
      "Mean squared error: 19.65288160618826\n",
      "Mean absolute errors: 3.701080395135049\n"
     ]
    }
   ],
   "source": [
    "print(\"Explained variance score: {}\".format( metrics.explained_variance_score(y_test, model2.predict(X_test)) ))\n",
    "print(\"Explained variance score: {}\".format( metrics.explained_variance_score(y_test, model2.predict(X_test)) ))\n",
    "print(\"Median absolute error: {}\".format( metrics.median_absolute_error(y_test, model2.predict(X_test)) ))\n",
    "print(\"Mean squared error: {}\".format( metrics.mean_squared_error(y_test, model2.predict(X_test)) ))\n",
    "print(\"Mean absolute errors: {}\".format(metrics.mean_absolute_error(y_test, model2.predict(X_test)) ))"
   ]
  },
  {
   "cell_type": "markdown",
   "metadata": {},
   "source": [
    "# Zadanie\n",
    "Wylicz powyższe miary na zbiorze testowym dla wszystkich modeli nauczonych na trainie:\n",
    "\n",
    "- regrsji linowej\n",
    "- regrsji wielomianowej stopnia 2\n",
    "- regrsji wielomianowej stopnia 3\n",
    "- regrsji wielomianowej stopnia 4\n",
    "- regrsji wielomianowej stopnia 5\n",
    "- regrsji wielomianowej stopnia 25"
   ]
  },
  {
   "cell_type": "code",
   "execution_count": 7,
   "metadata": {},
   "outputs": [
    {
     "name": "stdout",
     "output_type": "stream",
     "text": [
      "Explained variance score: 0.569728693249915\n",
      "Median absolute error: 2.7629226078445415\n",
      "Mean squared error: 55.3028021418866\n",
      "Mean absolute errors: 5.048841734209396\n",
      "\n",
      "Explained variance score: 0.8384811415489355\n",
      "Median absolute error: 3.219301804151468\n",
      "Mean squared error: 19.65288160618826\n",
      "Mean absolute errors: 3.701080395135049\n",
      "\n",
      "Explained variance score: 0.993684301210318\n",
      "Median absolute error: 0.4934828327993184\n",
      "Mean squared error: 0.8519785559366664\n",
      "Mean absolute errors: 0.6933917745622192\n",
      "\n",
      "Explained variance score: 0.9992239231841331\n",
      "Median absolute error: 0.16027124966620432\n",
      "Mean squared error: 0.09493364212494451\n",
      "Mean absolute errors: 0.24048203401435037\n",
      "\n",
      "Explained variance score: 0.9992183278136354\n",
      "Median absolute error: 0.1808796617795685\n",
      "Mean squared error: 0.09512012183337283\n",
      "Mean absolute errors: 0.24049511561485076\n",
      "\n",
      "Explained variance score: 0.7793369652044544\n",
      "Median absolute error: 0.37678820133177715\n",
      "Mean squared error: 26.47376099088614\n",
      "Mean absolute errors: 1.508573511586296\n",
      "\n"
     ]
    }
   ],
   "source": [
    "degs = [1, 2, 3, 4, 5, 25]\n",
    "\n",
    "for i in degs:\n",
    "    model = make_pipeline(PolynomialFeatures(i), linear_model.LinearRegression())\n",
    "    model.fit(X_train, y_train)\n",
    "    \n",
    "    print(\"Explained variance score: {}\".format( metrics.explained_variance_score(y_test, model.predict(X_test)) ))\n",
    "    print(\"Median absolute error: {}\".format( metrics.median_absolute_error(y_test, model.predict(X_test)) ))\n",
    "    print(\"Mean squared error: {}\".format( metrics.mean_squared_error(y_test, model.predict(X_test)) ))\n",
    "    print(\"Mean absolute errors: {}\".format(metrics.mean_absolute_error(y_test, model.predict(X_test)) ))\n",
    "    print()\n"
   ]
  }
 ],
 "metadata": {
  "kernelspec": {
   "display_name": "Python 3 (ipykernel)",
   "language": "python",
   "name": "python3"
  },
  "language_info": {
   "codemirror_mode": {
    "name": "ipython",
    "version": 3
   },
   "file_extension": ".py",
   "mimetype": "text/x-python",
   "name": "python",
   "nbconvert_exporter": "python",
   "pygments_lexer": "ipython3",
   "version": "3.9.7"
  }
 },
 "nbformat": 4,
 "nbformat_minor": 2
}
