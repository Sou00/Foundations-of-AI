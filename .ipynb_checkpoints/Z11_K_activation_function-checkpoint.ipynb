{
 "cells": [
  {
   "cell_type": "code",
   "execution_count": 1,
   "metadata": {},
   "outputs": [
    {
     "name": "stdout",
     "output_type": "stream",
     "text": [
      "2.8.0\n",
      "2.8.0\n"
     ]
    }
   ],
   "source": [
    "import tensorflow as tf\n",
    "from tensorflow import keras\n",
    "print(tf.__version__)\n",
    "\n",
    "print(keras.__version__)"
   ]
  },
  {
   "cell_type": "code",
   "execution_count": 2,
   "metadata": {},
   "outputs": [],
   "source": [
    "import numpy as np\n",
    "import pandas as pd\n",
    "import matplotlib.pyplot as plt\n",
    "import os"
   ]
  },
  {
   "cell_type": "code",
   "execution_count": 3,
   "metadata": {},
   "outputs": [
    {
     "name": "stderr",
     "output_type": "stream",
     "text": [
      "C:\\Users\\Sou\\anaconda3\\lib\\site-packages\\pandas\\util\\_decorators.py:311: ParserWarning: Falling back to the 'python' engine because the 'c' engine does not support regex separators (separators > 1 char and different from '\\s+' are interpreted as regex); you can avoid this warning by specifying engine='python'.\n",
      "  return func(*args, **kwargs)\n"
     ]
    },
    {
     "data": {
      "text/html": [
       "<div>\n",
       "<style scoped>\n",
       "    .dataframe tbody tr th:only-of-type {\n",
       "        vertical-align: middle;\n",
       "    }\n",
       "\n",
       "    .dataframe tbody tr th {\n",
       "        vertical-align: top;\n",
       "    }\n",
       "\n",
       "    .dataframe thead th {\n",
       "        text-align: right;\n",
       "    }\n",
       "</style>\n",
       "<table border=\"1\" class=\"dataframe\">\n",
       "  <thead>\n",
       "    <tr style=\"text-align: right;\">\n",
       "      <th></th>\n",
       "      <th>age</th>\n",
       "      <th>workclass</th>\n",
       "      <th>fnlwgt</th>\n",
       "      <th>education</th>\n",
       "      <th>education_num</th>\n",
       "      <th>marital_status</th>\n",
       "      <th>occupation</th>\n",
       "      <th>relationship</th>\n",
       "      <th>race</th>\n",
       "      <th>sex</th>\n",
       "      <th>capital_gain</th>\n",
       "      <th>capital_loss</th>\n",
       "      <th>hours_per_week</th>\n",
       "      <th>native_country</th>\n",
       "      <th>wage_class</th>\n",
       "    </tr>\n",
       "  </thead>\n",
       "  <tbody>\n",
       "    <tr>\n",
       "      <th>0</th>\n",
       "      <td>39</td>\n",
       "      <td>State-gov</td>\n",
       "      <td>77516</td>\n",
       "      <td>Bachelors</td>\n",
       "      <td>13</td>\n",
       "      <td>Never-married</td>\n",
       "      <td>Adm-clerical</td>\n",
       "      <td>Not-in-family</td>\n",
       "      <td>White</td>\n",
       "      <td>Male</td>\n",
       "      <td>2174</td>\n",
       "      <td>0</td>\n",
       "      <td>40</td>\n",
       "      <td>United-States</td>\n",
       "      <td>&lt;=50K</td>\n",
       "    </tr>\n",
       "    <tr>\n",
       "      <th>1</th>\n",
       "      <td>50</td>\n",
       "      <td>Self-emp-not-inc</td>\n",
       "      <td>83311</td>\n",
       "      <td>Bachelors</td>\n",
       "      <td>13</td>\n",
       "      <td>Married-civ-spouse</td>\n",
       "      <td>Exec-managerial</td>\n",
       "      <td>Husband</td>\n",
       "      <td>White</td>\n",
       "      <td>Male</td>\n",
       "      <td>0</td>\n",
       "      <td>0</td>\n",
       "      <td>13</td>\n",
       "      <td>United-States</td>\n",
       "      <td>&lt;=50K</td>\n",
       "    </tr>\n",
       "    <tr>\n",
       "      <th>2</th>\n",
       "      <td>38</td>\n",
       "      <td>Private</td>\n",
       "      <td>215646</td>\n",
       "      <td>HS-grad</td>\n",
       "      <td>9</td>\n",
       "      <td>Divorced</td>\n",
       "      <td>Handlers-cleaners</td>\n",
       "      <td>Not-in-family</td>\n",
       "      <td>White</td>\n",
       "      <td>Male</td>\n",
       "      <td>0</td>\n",
       "      <td>0</td>\n",
       "      <td>40</td>\n",
       "      <td>United-States</td>\n",
       "      <td>&lt;=50K</td>\n",
       "    </tr>\n",
       "    <tr>\n",
       "      <th>3</th>\n",
       "      <td>53</td>\n",
       "      <td>Private</td>\n",
       "      <td>234721</td>\n",
       "      <td>11th</td>\n",
       "      <td>7</td>\n",
       "      <td>Married-civ-spouse</td>\n",
       "      <td>Handlers-cleaners</td>\n",
       "      <td>Husband</td>\n",
       "      <td>Black</td>\n",
       "      <td>Male</td>\n",
       "      <td>0</td>\n",
       "      <td>0</td>\n",
       "      <td>40</td>\n",
       "      <td>United-States</td>\n",
       "      <td>&lt;=50K</td>\n",
       "    </tr>\n",
       "    <tr>\n",
       "      <th>4</th>\n",
       "      <td>28</td>\n",
       "      <td>Private</td>\n",
       "      <td>338409</td>\n",
       "      <td>Bachelors</td>\n",
       "      <td>13</td>\n",
       "      <td>Married-civ-spouse</td>\n",
       "      <td>Prof-specialty</td>\n",
       "      <td>Wife</td>\n",
       "      <td>Black</td>\n",
       "      <td>Female</td>\n",
       "      <td>0</td>\n",
       "      <td>0</td>\n",
       "      <td>40</td>\n",
       "      <td>Cuba</td>\n",
       "      <td>&lt;=50K</td>\n",
       "    </tr>\n",
       "  </tbody>\n",
       "</table>\n",
       "</div>"
      ],
      "text/plain": [
       "   age         workclass  fnlwgt  education  education_num  \\\n",
       "0   39         State-gov   77516  Bachelors             13   \n",
       "1   50  Self-emp-not-inc   83311  Bachelors             13   \n",
       "2   38           Private  215646    HS-grad              9   \n",
       "3   53           Private  234721       11th              7   \n",
       "4   28           Private  338409  Bachelors             13   \n",
       "\n",
       "       marital_status         occupation   relationship   race     sex  \\\n",
       "0       Never-married       Adm-clerical  Not-in-family  White    Male   \n",
       "1  Married-civ-spouse    Exec-managerial        Husband  White    Male   \n",
       "2            Divorced  Handlers-cleaners  Not-in-family  White    Male   \n",
       "3  Married-civ-spouse  Handlers-cleaners        Husband  Black    Male   \n",
       "4  Married-civ-spouse     Prof-specialty           Wife  Black  Female   \n",
       "\n",
       "   capital_gain  capital_loss  hours_per_week native_country wage_class  \n",
       "0          2174             0              40  United-States      <=50K  \n",
       "1             0             0              13  United-States      <=50K  \n",
       "2             0             0              40  United-States      <=50K  \n",
       "3             0             0              40  United-States      <=50K  \n",
       "4             0             0              40           Cuba      <=50K  "
      ]
     },
     "execution_count": 3,
     "metadata": {},
     "output_type": "execute_result"
    }
   ],
   "source": [
    "# Wczytaj dane treningowe i testowe\n",
    "import numpy as np\n",
    "import matplotlib.pyplot as plt\n",
    "import pandas as pd\n",
    "\n",
    "train_set = pd.read_csv('Dane/adult/adult.data', sep=\", \",header = None)\n",
    "test_set = pd.read_csv('Dane/adult/adult.test', sep=\", \",skiprows = 1, header = None) # Make sure to skip a row for the test set\n",
    "\n",
    "col_labels = ['age', 'workclass', 'fnlwgt', 'education', 'education_num', 'marital_status', 'occupation', \n",
    "              'relationship', 'race', 'sex', 'capital_gain', 'capital_loss', 'hours_per_week', 'native_country',\n",
    "             'wage_class']\n",
    "train_set.columns = col_labels\n",
    "test_set.columns = col_labels\n",
    "\n",
    "train = train_set.replace('?', np.nan).dropna()\n",
    "test = test_set.replace('?', np.nan).dropna()\n",
    "\n",
    "train_set.head()\n"
   ]
  },
  {
   "cell_type": "markdown",
   "metadata": {},
   "source": [
    "# Zad.\n",
    "Zróbmy szybki preprocesing"
   ]
  },
  {
   "cell_type": "code",
   "execution_count": 4,
   "metadata": {},
   "outputs": [],
   "source": [
    "dataset = pd.concat([train,test])\n",
    "\n",
    "dataset['wage_class'] = dataset.wage_class.replace({'<=50K.': 0,'<=50K':0, '>50K.':1, '>50K':1})\n",
    "\n",
    "dataset.drop([\"fnlwgt\"],axis=1,inplace=True)\n",
    "\n",
    "dataset.drop([\"education\"],axis=1,inplace=True)\n",
    "\n",
    "x = dataset.groupby('native_country')[\"wage_class\"].mean()\n",
    "\n",
    "d = dict(pd.cut(x[x.index!=\" United-States\"],5,labels=range(5)))\n",
    "\n",
    "dataset['native_country'] = dataset['native_country'].replace(d)\n",
    "\n",
    "dataset = pd.get_dummies(dataset,drop_first=True)\n",
    "\n",
    "train = dataset.iloc[:train.shape[0]]\n",
    "test = dataset.iloc[train.shape[0]:]\n",
    "\n",
    "X_train = train.drop(\"wage_class\",axis=1)\n",
    "y_train = train.wage_class\n",
    "\n",
    "X_test = test.drop(\"wage_class\",axis=1)\n",
    "y_test = test.wage_class\n"
   ]
  },
  {
   "cell_type": "markdown",
   "metadata": {},
   "source": [
    "# Zad\n",
    "Nauczmy prosty model."
   ]
  },
  {
   "cell_type": "code",
   "execution_count": 5,
   "metadata": {},
   "outputs": [
    {
     "name": "stdout",
     "output_type": "stream",
     "text": [
      "Model: \"sequential\"\n",
      "_________________________________________________________________\n",
      " Layer (type)                Output Shape              Param #   \n",
      "=================================================================\n",
      " dense (Dense)               (None, 100)               4200      \n",
      "                                                                 \n",
      " dense_1 (Dense)             (None, 50)                5050      \n",
      "                                                                 \n",
      " dense_2 (Dense)             (None, 10)                510       \n",
      "                                                                 \n",
      " dense_3 (Dense)             (None, 1)                 11        \n",
      "                                                                 \n",
      "=================================================================\n",
      "Total params: 9,771\n",
      "Trainable params: 9,771\n",
      "Non-trainable params: 0\n",
      "_________________________________________________________________\n"
     ]
    }
   ],
   "source": [
    "from keras.models import Sequential\n",
    "from keras.layers import Dense\n",
    "\n",
    "from keras.callbacks import History\n",
    "\n",
    "history = History()\n",
    "model = Sequential()\n",
    "model.add(Dense(100,activation=\"sigmoid\",input_shape=(X_train.shape[1],)))\n",
    "model.add(Dense(50,activation=\"sigmoid\"))\n",
    "model.add(Dense(10,activation=\"sigmoid\"))\n",
    "model.add(Dense(1,activation=\"sigmoid\"))\n",
    "model.summary()"
   ]
  },
  {
   "cell_type": "code",
   "execution_count": 6,
   "metadata": {},
   "outputs": [],
   "source": [
    "model.compile(loss=\"binary_crossentropy\",optimizer=\"Adam\", metrics=[\"accuracy\"])"
   ]
  },
  {
   "cell_type": "code",
   "execution_count": 7,
   "metadata": {},
   "outputs": [
    {
     "name": "stdout",
     "output_type": "stream",
     "text": [
      "Epoch 1/20\n",
      "943/943 [==============================] - 2s 1ms/step - loss: 0.4509 - accuracy: 0.7850 - val_loss: 0.3713 - val_accuracy: 0.8305\n",
      "Epoch 2/20\n",
      "943/943 [==============================] - 1s 1ms/step - loss: 0.3813 - accuracy: 0.8124 - val_loss: 0.3697 - val_accuracy: 0.8245\n",
      "Epoch 3/20\n",
      "943/943 [==============================] - 1s 1ms/step - loss: 0.3778 - accuracy: 0.8096 - val_loss: 0.3718 - val_accuracy: 0.8157\n",
      "Epoch 4/20\n",
      "943/943 [==============================] - 1s 1ms/step - loss: 0.3742 - accuracy: 0.8131 - val_loss: 0.3682 - val_accuracy: 0.8175\n",
      "Epoch 5/20\n",
      "943/943 [==============================] - 1s 1ms/step - loss: 0.3725 - accuracy: 0.8129 - val_loss: 0.3767 - val_accuracy: 0.8173\n",
      "Epoch 6/20\n",
      "943/943 [==============================] - 1s 1ms/step - loss: 0.3718 - accuracy: 0.8118 - val_loss: 0.3664 - val_accuracy: 0.8142\n",
      "Epoch 7/20\n",
      "943/943 [==============================] - 1s 1ms/step - loss: 0.3685 - accuracy: 0.8166 - val_loss: 0.3661 - val_accuracy: 0.8186\n",
      "Epoch 8/20\n",
      "943/943 [==============================] - 1s 1ms/step - loss: 0.3690 - accuracy: 0.8132 - val_loss: 0.3835 - val_accuracy: 0.7983\n",
      "Epoch 9/20\n",
      "943/943 [==============================] - 1s 1ms/step - loss: 0.3704 - accuracy: 0.8133 - val_loss: 0.3695 - val_accuracy: 0.8172\n",
      "Epoch 10/20\n",
      "943/943 [==============================] - 1s 1ms/step - loss: 0.3702 - accuracy: 0.8142 - val_loss: 0.3638 - val_accuracy: 0.8160\n",
      "Epoch 11/20\n",
      "943/943 [==============================] - 1s 1ms/step - loss: 0.3685 - accuracy: 0.8133 - val_loss: 0.3716 - val_accuracy: 0.8097\n",
      "Epoch 12/20\n",
      "943/943 [==============================] - 1s 1ms/step - loss: 0.3674 - accuracy: 0.8149 - val_loss: 0.3677 - val_accuracy: 0.8169\n",
      "Epoch 13/20\n",
      "943/943 [==============================] - 1s 1ms/step - loss: 0.3660 - accuracy: 0.8157 - val_loss: 0.3679 - val_accuracy: 0.8179\n",
      "Epoch 14/20\n",
      "943/943 [==============================] - 1s 1ms/step - loss: 0.3660 - accuracy: 0.8151 - val_loss: 0.3645 - val_accuracy: 0.8197\n",
      "Epoch 15/20\n",
      "943/943 [==============================] - 1s 1ms/step - loss: 0.3652 - accuracy: 0.8154 - val_loss: 0.3686 - val_accuracy: 0.8108\n",
      "Epoch 16/20\n",
      "943/943 [==============================] - 1s 1ms/step - loss: 0.3661 - accuracy: 0.8145 - val_loss: 0.3628 - val_accuracy: 0.8181\n",
      "Epoch 17/20\n",
      "943/943 [==============================] - 1s 1ms/step - loss: 0.3669 - accuracy: 0.8151 - val_loss: 0.3746 - val_accuracy: 0.8142\n",
      "Epoch 18/20\n",
      "943/943 [==============================] - 1s 1ms/step - loss: 0.3658 - accuracy: 0.8148 - val_loss: 0.3704 - val_accuracy: 0.8132\n",
      "Epoch 19/20\n",
      "943/943 [==============================] - 1s 1ms/step - loss: 0.3653 - accuracy: 0.8162 - val_loss: 0.3629 - val_accuracy: 0.8173\n",
      "Epoch 20/20\n",
      "943/943 [==============================] - 1s 1ms/step - loss: 0.3648 - accuracy: 0.8161 - val_loss: 0.3667 - val_accuracy: 0.8168\n"
     ]
    }
   ],
   "source": [
    "# history = model.fit(X_train, y_train, epochs=30, validation_data=(X_valid, y_valid))\n",
    "history = model.fit(X_train, y_train, validation_data= (X_test, y_test), batch_size=32,epochs=20)"
   ]
  },
  {
   "cell_type": "code",
   "execution_count": 8,
   "metadata": {},
   "outputs": [
    {
     "data": {
      "image/png": "[encoded data removed]",
      "text/plain": [
       "<Figure size 576x360 with 1 Axes>"
      ]
     },
     "metadata": {
      "needs_background": "light"
     },
     "output_type": "display_data"
    }
   ],
   "source": [
    "import pandas as pd\n",
    "\n",
    "pd.DataFrame(history.history).plot(figsize=(8, 5))\n",
    "plt.grid(True)\n",
    "plt.gca().set_ylim(0, 1)\n",
    "plt.show()"
   ]
  },
  {
   "cell_type": "code",
   "execution_count": 9,
   "metadata": {},
   "outputs": [
    {
     "name": "stdout",
     "output_type": "stream",
     "text": [
      "471/471 [==============================] - 0s 657us/step - loss: 0.3667 - accuracy: 0.8168\n"
     ]
    },
    {
     "data": {
      "text/plain": [
       "[0.3667384684085846, 0.8167994618415833]"
      ]
     },
     "execution_count": 9,
     "metadata": {},
     "output_type": "execute_result"
    }
   ],
   "source": [
    "model.evaluate(X_test,y_test)"
   ]
  },
  {
   "cell_type": "code",
   "execution_count": 14,
   "metadata": {},
   "outputs": [
    {
     "data": {
      "text/plain": [
       "0.7543160690571049"
      ]
     },
     "execution_count": 14,
     "metadata": {},
     "output_type": "execute_result"
    }
   ],
   "source": [
    "from sklearn import  metrics\n",
    "metrics.accuracy_score(y_true= y_test, y_pred= np.argmax(model.predict(X_test), axis=-1) )"
   ]
  },
  {
   "cell_type": "markdown",
   "metadata": {},
   "source": [
    "# Zad\n",
    "\n",
    "Porównaj powyższy wynik z nauką na danych znormalizowanych z fróżnymi funkcjami aktywacji:\n",
    "* sigmoid\n",
    "* tanh\n",
    "* relu\n",
    "* elu\n",
    "* LeakyReLU"
   ]
  },
  {
   "cell_type": "code",
   "execution_count": 16,
   "metadata": {},
   "outputs": [
    {
     "name": "stdout",
     "output_type": "stream",
     "text": [
      "Model: \"sequential_2\"\n",
      "_________________________________________________________________\n",
      " Layer (type)                Output Shape              Param #   \n",
      "=================================================================\n",
      " dense_8 (Dense)             (None, 100)               4200      \n",
      "                                                                 \n",
      " dense_9 (Dense)             (None, 50)                5050      \n",
      "                                                                 \n",
      " dense_10 (Dense)            (None, 10)                510       \n",
      "                                                                 \n",
      " dense_11 (Dense)            (None, 1)                 11        \n",
      "                                                                 \n",
      "=================================================================\n",
      "Total params: 9,771\n",
      "Trainable params: 9,771\n",
      "Non-trainable params: 0\n",
      "_________________________________________________________________\n",
      "Epoch 1/20\n",
      "943/943 [==============================] - 2s 1ms/step - loss: 0.5120 - accuracy: 0.8235 - val_loss: 0.3845 - val_accuracy: 0.8403\n",
      "Epoch 2/20\n",
      "943/943 [==============================] - 1s 1ms/step - loss: 0.3744 - accuracy: 0.8433 - val_loss: 0.3586 - val_accuracy: 0.8438\n",
      "Epoch 3/20\n",
      "943/943 [==============================] - 1s 1ms/step - loss: 0.3652 - accuracy: 0.8431 - val_loss: 0.3537 - val_accuracy: 0.8440\n",
      "Epoch 4/20\n",
      "943/943 [==============================] - 1s 1ms/step - loss: 0.3620 - accuracy: 0.8379 - val_loss: 0.3634 - val_accuracy: 0.8461\n",
      "Epoch 5/20\n",
      "943/943 [==============================] - 1s 1ms/step - loss: 0.3575 - accuracy: 0.8480 - val_loss: 0.3632 - val_accuracy: 0.8477\n",
      "Epoch 6/20\n",
      "943/943 [==============================] - 1s 1ms/step - loss: 0.3470 - accuracy: 0.8512 - val_loss: 0.3480 - val_accuracy: 0.8499\n",
      "Epoch 7/20\n",
      "943/943 [==============================] - 1s 1ms/step - loss: 0.3393 - accuracy: 0.8513 - val_loss: 0.3405 - val_accuracy: 0.8501\n",
      "Epoch 8/20\n",
      "943/943 [==============================] - 1s 1ms/step - loss: 0.3254 - accuracy: 0.8531 - val_loss: 0.3407 - val_accuracy: 0.8522\n",
      "Epoch 9/20\n",
      "943/943 [==============================] - 1s 1ms/step - loss: 0.3243 - accuracy: 0.8550 - val_loss: 0.3396 - val_accuracy: 0.8519\n",
      "Epoch 10/20\n",
      "943/943 [==============================] - 1s 1ms/step - loss: 0.3195 - accuracy: 0.8553 - val_loss: 0.3473 - val_accuracy: 0.8519\n",
      "Epoch 11/20\n",
      "943/943 [==============================] - 1s 1ms/step - loss: 0.3181 - accuracy: 0.8560 - val_loss: 0.3482 - val_accuracy: 0.8512\n",
      "Epoch 12/20\n",
      "943/943 [==============================] - 1s 1ms/step - loss: 0.3234 - accuracy: 0.8556 - val_loss: 0.3575 - val_accuracy: 0.8504\n",
      "Epoch 13/20\n",
      "943/943 [==============================] - 1s 1ms/step - loss: 0.3260 - accuracy: 0.8567 - val_loss: 0.3657 - val_accuracy: 0.8507\n",
      "Epoch 14/20\n",
      "943/943 [==============================] - 1s 1ms/step - loss: 0.3252 - accuracy: 0.8570 - val_loss: 0.3606 - val_accuracy: 0.8521\n",
      "Epoch 15/20\n",
      "943/943 [==============================] - 1s 1ms/step - loss: 0.3331 - accuracy: 0.8550 - val_loss: 0.4117 - val_accuracy: 0.8543\n",
      "Epoch 16/20\n",
      "943/943 [==============================] - 1s 1ms/step - loss: 0.3115 - accuracy: 0.8603 - val_loss: 0.3369 - val_accuracy: 0.8523\n",
      "Epoch 17/20\n",
      "943/943 [==============================] - 1s 1ms/step - loss: 0.3125 - accuracy: 0.8600 - val_loss: 0.3744 - val_accuracy: 0.8466\n",
      "Epoch 18/20\n",
      "943/943 [==============================] - 1s 1ms/step - loss: 0.3173 - accuracy: 0.8597 - val_loss: 0.3628 - val_accuracy: 0.8508\n",
      "Epoch 19/20\n",
      "943/943 [==============================] - 1s 1ms/step - loss: 0.3113 - accuracy: 0.8591 - val_loss: 0.3444 - val_accuracy: 0.8500\n",
      "Epoch 20/20\n",
      "943/943 [==============================] - 1s 1ms/step - loss: 0.3113 - accuracy: 0.8615 - val_loss: 0.3757 - val_accuracy: 0.8489\n"
     ]
    }
   ],
   "source": [
    "from sklearn.preprocessing import StandardScaler\n",
    "\n",
    "scaler = StandardScaler()\n",
    "scaler.fit(X_train)\n",
    "X_train_scaled = scaler.transform(X_train)\n",
    "X_test_scaled = scaler.transform(X_test)\n",
    "\n",
    "history2 = History()\n",
    "model = Sequential()\n",
    "model.add(Dense(100,activation=\"relu\",input_shape=(X_train.shape[1],)))\n",
    "model.add(Dense(50,activation=\"relu\"))\n",
    "model.add(Dense(10,activation=\"relu\"))\n",
    "model.add(Dense(1,activation=\"relu\"))\n",
    "model.summary()\n",
    "model.compile(loss=\"binary_crossentropy\",optimizer=\"Adam\", metrics=[\"accuracy\"])\n",
    "history2 = model.fit(X_train_scaled, y_train, validation_data= (X_test_scaled, y_test), batch_size=32,epochs=20)"
   ]
  },
  {
   "cell_type": "code",
   "execution_count": 17,
   "metadata": {},
   "outputs": [
    {
     "name": "stdout",
     "output_type": "stream",
     "text": [
      "Model: \"sequential_3\"\n",
      "_________________________________________________________________\n",
      " Layer (type)                Output Shape              Param #   \n",
      "=================================================================\n",
      " dense_12 (Dense)            (None, 100)               4200      \n",
      "                                                                 \n",
      " dense_13 (Dense)            (None, 50)                5050      \n",
      "                                                                 \n",
      " dense_14 (Dense)            (None, 10)                510       \n",
      "                                                                 \n",
      " dense_15 (Dense)            (None, 1)                 11        \n",
      "                                                                 \n",
      "=================================================================\n",
      "Total params: 9,771\n",
      "Trainable params: 9,771\n",
      "Non-trainable params: 0\n",
      "_________________________________________________________________\n",
      "Epoch 1/20\n",
      "943/943 [==============================] - 2s 1ms/step - loss: 3.4274 - accuracy: 0.7004 - val_loss: 3.6557 - val_accuracy: 0.7061\n",
      "Epoch 2/20\n",
      "943/943 [==============================] - 1s 1ms/step - loss: 3.4621 - accuracy: 0.7241 - val_loss: 3.3803 - val_accuracy: 0.7352\n",
      "Epoch 3/20\n",
      "943/943 [==============================] - 1s 1ms/step - loss: 3.2827 - accuracy: 0.7349 - val_loss: 3.2082 - val_accuracy: 0.7373\n",
      "Epoch 4/20\n",
      "943/943 [==============================] - 1s 1ms/step - loss: 3.0041 - accuracy: 0.7464 - val_loss: 2.7939 - val_accuracy: 0.7595\n",
      "Epoch 5/20\n",
      "943/943 [==============================] - 1s 1ms/step - loss: 2.7285 - accuracy: 0.7629 - val_loss: 2.6155 - val_accuracy: 0.7762\n",
      "Epoch 6/20\n",
      "943/943 [==============================] - 1s 1ms/step - loss: 2.5631 - accuracy: 0.7814 - val_loss: 2.3818 - val_accuracy: 0.7854\n",
      "Epoch 7/20\n",
      "943/943 [==============================] - 1s 1ms/step - loss: 1.8885 - accuracy: 0.7870 - val_loss: 1.4525 - val_accuracy: 0.7932\n",
      "Epoch 8/20\n",
      "943/943 [==============================] - 1s 1ms/step - loss: 1.3841 - accuracy: 0.7994 - val_loss: 1.5243 - val_accuracy: 0.7788\n",
      "Epoch 9/20\n",
      "943/943 [==============================] - 1s 1ms/step - loss: 1.2160 - accuracy: 0.8033 - val_loss: 1.1081 - val_accuracy: 0.8166\n",
      "Epoch 10/20\n",
      "943/943 [==============================] - 1s 1ms/step - loss: 1.4097 - accuracy: 0.7855 - val_loss: 0.9448 - val_accuracy: 0.8050\n",
      "Epoch 11/20\n",
      "943/943 [==============================] - 1s 1ms/step - loss: 0.7893 - accuracy: 0.8209 - val_loss: 0.6890 - val_accuracy: 0.8349\n",
      "Epoch 12/20\n",
      "943/943 [==============================] - 1s 1ms/step - loss: 0.6681 - accuracy: 0.8322 - val_loss: 0.6028 - val_accuracy: 0.8330\n",
      "Epoch 13/20\n",
      "943/943 [==============================] - 1s 1ms/step - loss: 0.5372 - accuracy: 0.8320 - val_loss: 0.9081 - val_accuracy: 0.8119\n",
      "Epoch 14/20\n",
      "943/943 [==============================] - 1s 1ms/step - loss: 0.5283 - accuracy: 0.8343 - val_loss: 0.5001 - val_accuracy: 0.8388\n",
      "Epoch 15/20\n",
      "943/943 [==============================] - 1s 1ms/step - loss: 0.4694 - accuracy: 0.8408 - val_loss: 0.4606 - val_accuracy: 0.8443\n",
      "Epoch 16/20\n",
      "943/943 [==============================] - 1s 1ms/step - loss: 0.4490 - accuracy: 0.8406 - val_loss: 0.4864 - val_accuracy: 0.8377\n",
      "Epoch 17/20\n",
      "943/943 [==============================] - 1s 1ms/step - loss: 0.4867 - accuracy: 0.8326 - val_loss: 0.5086 - val_accuracy: 0.8441\n",
      "Epoch 18/20\n",
      "943/943 [==============================] - 1s 1ms/step - loss: 0.4851 - accuracy: 0.8306 - val_loss: 0.4614 - val_accuracy: 0.8444\n",
      "Epoch 19/20\n",
      "943/943 [==============================] - 1s 1ms/step - loss: 0.4417 - accuracy: 0.8383 - val_loss: 0.4350 - val_accuracy: 0.8303\n",
      "Epoch 20/20\n",
      "943/943 [==============================] - 1s 1ms/step - loss: 0.4614 - accuracy: 0.8308 - val_loss: 0.4571 - val_accuracy: 0.8441\n"
     ]
    }
   ],
   "source": [
    "history3 = History()\n",
    "model = Sequential()\n",
    "model.add(Dense(100,activation=\"elu\",input_shape=(X_train.shape[1],)))\n",
    "model.add(Dense(50,activation=\"elu\"))\n",
    "model.add(Dense(10,activation=\"elu\"))\n",
    "model.add(Dense(1,activation=\"elu\"))\n",
    "model.summary()\n",
    "model.compile(loss=\"binary_crossentropy\",optimizer=\"Adam\", metrics=[\"accuracy\"])\n",
    "history3 = model.fit(X_train_scaled, y_train, validation_data= (X_test_scaled, y_test), batch_size=32,epochs=20)"
   ]
  },
  {
   "cell_type": "code",
   "execution_count": 19,
   "metadata": {},
   "outputs": [
    {
     "name": "stdout",
     "output_type": "stream",
     "text": [
      "Model: \"sequential_5\"\n",
      "_________________________________________________________________\n",
      " Layer (type)                Output Shape              Param #   \n",
      "=================================================================\n",
      " dense_17 (Dense)            (None, 100)               4200      \n",
      "                                                                 \n",
      " dense_18 (Dense)            (None, 50)                5050      \n",
      "                                                                 \n",
      " dense_19 (Dense)            (None, 10)                510       \n",
      "                                                                 \n",
      " dense_20 (Dense)            (None, 1)                 11        \n",
      "                                                                 \n",
      "=================================================================\n",
      "Total params: 9,771\n",
      "Trainable params: 9,771\n",
      "Non-trainable params: 0\n",
      "_________________________________________________________________\n",
      "Epoch 1/20\n",
      "943/943 [==============================] - 2s 1ms/step - loss: 0.7951 - accuracy: 0.8004 - val_loss: 0.5154 - val_accuracy: 0.8212\n",
      "Epoch 2/20\n",
      "943/943 [==============================] - 1s 1ms/step - loss: 0.4550 - accuracy: 0.8329 - val_loss: 0.4092 - val_accuracy: 0.8359\n",
      "Epoch 3/20\n",
      "943/943 [==============================] - 1s 1ms/step - loss: 0.4254 - accuracy: 0.8330 - val_loss: 0.5367 - val_accuracy: 0.7970\n",
      "Epoch 4/20\n",
      "943/943 [==============================] - 1s 1ms/step - loss: 0.4247 - accuracy: 0.8194 - val_loss: 0.4335 - val_accuracy: 0.8095\n",
      "Epoch 5/20\n",
      "943/943 [==============================] - 1s 1ms/step - loss: 0.4973 - accuracy: 0.7982 - val_loss: 0.3984 - val_accuracy: 0.8308\n",
      "Epoch 6/20\n",
      "943/943 [==============================] - 1s 1ms/step - loss: 0.3718 - accuracy: 0.8402 - val_loss: 0.3888 - val_accuracy: 0.8332\n",
      "Epoch 7/20\n",
      "943/943 [==============================] - 1s 1ms/step - loss: 0.3668 - accuracy: 0.8449 - val_loss: 0.3769 - val_accuracy: 0.8471\n",
      "Epoch 8/20\n",
      "943/943 [==============================] - 1s 1ms/step - loss: 0.3621 - accuracy: 0.8481 - val_loss: 0.3622 - val_accuracy: 0.8477\n",
      "Epoch 9/20\n",
      "943/943 [==============================] - 1s 1ms/step - loss: 0.3603 - accuracy: 0.8463 - val_loss: 0.3660 - val_accuracy: 0.8465\n",
      "Epoch 10/20\n",
      "943/943 [==============================] - 1s 1ms/step - loss: 0.3730 - accuracy: 0.8456 - val_loss: 0.3778 - val_accuracy: 0.8498\n",
      "Epoch 11/20\n",
      "943/943 [==============================] - 1s 1ms/step - loss: 0.3733 - accuracy: 0.8435 - val_loss: 0.3782 - val_accuracy: 0.8496\n",
      "Epoch 12/20\n",
      "943/943 [==============================] - 1s 1ms/step - loss: 0.3645 - accuracy: 0.8469 - val_loss: 0.3619 - val_accuracy: 0.8479\n",
      "Epoch 13/20\n",
      "943/943 [==============================] - 1s 1ms/step - loss: 0.3826 - accuracy: 0.8391 - val_loss: 0.3673 - val_accuracy: 0.8479\n",
      "Epoch 14/20\n",
      "943/943 [==============================] - 1s 1ms/step - loss: 0.3617 - accuracy: 0.8460 - val_loss: 0.3652 - val_accuracy: 0.8473\n",
      "Epoch 15/20\n",
      "943/943 [==============================] - 1s 1ms/step - loss: 0.3583 - accuracy: 0.8483 - val_loss: 0.3722 - val_accuracy: 0.8473\n",
      "Epoch 16/20\n",
      "943/943 [==============================] - 1s 1ms/step - loss: 0.3575 - accuracy: 0.8474 - val_loss: 0.3539 - val_accuracy: 0.8485\n",
      "Epoch 17/20\n",
      "943/943 [==============================] - 1s 1ms/step - loss: 0.3471 - accuracy: 0.8491 - val_loss: 0.3600 - val_accuracy: 0.8511\n",
      "Epoch 18/20\n",
      "943/943 [==============================] - 1s 1ms/step - loss: 0.3452 - accuracy: 0.8503 - val_loss: 0.3708 - val_accuracy: 0.8470\n",
      "Epoch 19/20\n",
      "943/943 [==============================] - 1s 1ms/step - loss: 0.3529 - accuracy: 0.8485 - val_loss: 0.3714 - val_accuracy: 0.8501\n",
      "Epoch 20/20\n",
      "943/943 [==============================] - 1s 1ms/step - loss: 0.3524 - accuracy: 0.8499 - val_loss: 0.3564 - val_accuracy: 0.8456\n"
     ]
    }
   ],
   "source": [
    "history4 = History()\n",
    "model = Sequential()\n",
    "model.add(Dense(100,activation=\"leaky_relu\",input_shape=(X_train.shape[1],)))\n",
    "model.add(Dense(50,activation=\"leaky_relu\"))\n",
    "model.add(Dense(10,activation=\"leaky_relu\"))\n",
    "model.add(Dense(1,activation=\"leaky_relu\"))\n",
    "model.summary()\n",
    "model.compile(loss=\"binary_crossentropy\",optimizer=\"Adam\", metrics=[\"accuracy\"])\n",
    "history4 = model.fit(X_train_scaled, y_train, validation_data= (X_test_scaled, y_test), batch_size=32,epochs=20)"
   ]
  },
  {
   "cell_type": "markdown",
   "metadata": {},
   "source": [
    "# Zad. \n",
    "Stwórz wykres porównujący metody. "
   ]
  },
  {
   "cell_type": "code",
   "execution_count": 20,
   "metadata": {},
   "outputs": [
    {
     "data": {
      "image/png": "[encoded data removed]",
      "text/plain": [
       "<Figure size 432x288 with 1 Axes>"
      ]
     },
     "metadata": {
      "needs_background": "light"
     },
     "output_type": "display_data"
    }
   ],
   "source": [
    "plt.plot(pd.DataFrame(history.history))\n",
    "plt.plot(pd.DataFrame(history2.history))\n",
    "plt.plot(pd.DataFrame(history3.history))\n",
    "plt.plot(pd.DataFrame(history4.history))\n",
    "plt.grid(True)\n",
    "plt.show()"
   ]
  },
  {
   "cell_type": "code",
   "execution_count": null,
   "metadata": {},
   "outputs": [],
   "source": []
  }
 ],
 "metadata": {
  "kernelspec": {
   "display_name": "Python 3 (ipykernel)",
   "language": "python",
   "name": "python3"
  },
  "language_info": {
   "codemirror_mode": {
    "name": "ipython",
    "version": 3
   },
   "file_extension": ".py",
   "mimetype": "text/x-python",
   "name": "python",
   "nbconvert_exporter": "python",
   "pygments_lexer": "ipython3",
   "version": "3.9.7"
  }
 },
 "nbformat": 4,
 "nbformat_minor": 4
}
